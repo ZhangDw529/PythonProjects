{
 "cells": [
  {
   "cell_type": "code",
   "execution_count": 25,
   "id": "676060a2",
   "metadata": {},
   "outputs": [],
   "source": [
    "import matplotlib.pyplot as plt\n",
    "import numpy as np\n",
    "%matplotlib inline"
   ]
  },
  {
   "cell_type": "code",
   "execution_count": 26,
   "id": "2ed160a1",
   "metadata": {},
   "outputs": [],
   "source": [
    "# generate the separable data\n",
    "def generate_separable_data(N):\n",
    "    np.random.seed()  # for reproducibility\n",
    "    w = np.random.uniform(-1, 1, 2)\n",
    "    b = np.random.uniform(-1, 1)\n",
    "    X = np.random.uniform(-1, 1, [N, 2])\n",
    "    y = np.sign(np.inner(w, X)+b)\n",
    "    return X,y,w,b"
   ]
  },
  {
   "cell_type": "code",
   "execution_count": 27,
   "id": "2db36358",
   "metadata": {},
   "outputs": [],
   "source": [
    "#plot the data \n",
    "def plot_data(X, y, w, b) :\n",
    "    fig = plt.figure(figsize=(4,4))\n",
    "    plt.xlim(-1,1)\n",
    "    plt.ylim(-1,1)\n",
    "    a = -w[0]/w[1]\n",
    "    pts = np.linspace(-1,1)\n",
    "    plt.plot(pts, a*pts-(b/w[1]), 'k-')\n",
    "    cols = {1: 'r', -1: 'b'}\n",
    "    for i in range(len(X)): \n",
    "        plt.plot(X[i][0], X[i][1], cols[y[i]]+'o')\n",
    "    plt.show()"
   ]
  },
  {
   "cell_type": "code",
   "execution_count": 28,
   "id": "ec19c37b",
   "metadata": {},
   "outputs": [
    {
     "data": {
      "image/png": "[encoded data removed]",
      "text/plain": [
       "<Figure size 288x288 with 1 Axes>"
      ]
     },
     "metadata": {
      "needs_background": "light"
     },
     "output_type": "display_data"
    }
   ],
   "source": [
    "X,y,w,b = generate_separable_data(200)\n",
    "plot_data(X, y, w,b)"
   ]
  },
  {
   "cell_type": "code",
   "execution_count": 29,
   "id": "5acf2f08",
   "metadata": {},
   "outputs": [],
   "source": [
    "class Perceptron :\n",
    " \n",
    "    \"\"\"An implementation of the perceptron algorithm.\"\"\"\n",
    " \n",
    "    def __init__(self, max_iterations=100, learning_rate=0.2) :\n",
    " \n",
    "        self.max_iterations = max_iterations\n",
    "        self.learning_rate = learning_rate\n",
    " \n",
    "    def fit(self, X, y) :\n",
    "        X = self.add_bias(X,y)\n",
    "        \n",
    "        self.w = np.zeros(len(X[0]))\n",
    "\n",
    "        converged = False\n",
    "        iterations = 0\n",
    "        while (not converged and iterations <= self.max_iterations) :\n",
    "            converged = True\n",
    "            for i in range(len(X)) :\n",
    "                if y[i] * self.decision_function(X[i]) <= 0 :\n",
    "                    self.w = self.w + y[i] * self.learning_rate * X[i]\n",
    "                    converged = False\n",
    "            iterations += 1\n",
    "        self.converged = converged\n",
    "        plot_data(X[:,1:], y, self.w[1:],self.w[0])\n",
    "        if converged :\n",
    "            print ('converged in %d iterations ' % iterations)\n",
    "        else:\n",
    "            print ('cannot converged in %d iterations ' % iterations)\n",
    "\n",
    "        print ('weight vector: ' + str(self.w))\n",
    "\n",
    "    def decision_function(self, x) :\n",
    "        return np.inner(self.w, x)\n",
    "\n",
    "    def predict(self, X) :\n",
    "        scores = np.inner(self.w, X)\n",
    "        return np.sign(scores)\n",
    "    \n",
    "    def add_bias(self,X,y):\n",
    "        a = np.ones(X.shape[0])\n",
    "        X = np.insert(X, 0, values=a, axis=1)\n",
    "        return X\n",
    "    def error(self,X,y):\n",
    "        num = 0\n",
    "        err_sco = self.predict(X)\n",
    "        num =sum (err_sco!=y)\n",
    "        return num/len(X)"
   ]
  },
  {
   "cell_type": "code",
   "execution_count": 30,
   "id": "6a300dc5",
   "metadata": {},
   "outputs": [
    {
     "data": {
      "image/png": "[encoded data removed]",
      "text/plain": [
       "<Figure size 288x288 with 1 Axes>"
      ]
     },
     "metadata": {
      "needs_background": "light"
     },
     "output_type": "display_data"
    },
    {
     "name": "stdout",
     "output_type": "stream",
     "text": [
      "converged in 13 iterations \n",
      "weight vector: [ 1.          0.88341263 -1.01002751]\n"
     ]
    }
   ],
   "source": [
    "X,y,w,b = generate_separable_data(200)\n",
    "p = Perceptron()\n",
    "p.fit(X,y)"
   ]
  },
  {
   "cell_type": "code",
   "execution_count": null,
   "id": "b3f07e6b",
   "metadata": {},
   "outputs": [],
   "source": []
  },
  {
   "cell_type": "code",
   "execution_count": null,
   "id": "e4f146eb",
   "metadata": {},
   "outputs": [],
   "source": []
  }
 ],
 "metadata": {
  "kernelspec": {
   "display_name": "Python 3 (ipykernel)",
   "language": "python",
   "name": "python3"
  },
  "language_info": {
   "codemirror_mode": {
    "name": "ipython",
    "version": 3
   },
   "file_extension": ".py",
   "mimetype": "text/x-python",
   "name": "python",
   "nbconvert_exporter": "python",
   "pygments_lexer": "ipython3",
   "version": "3.8.13"
  }
 },
 "nbformat": 4,
 "nbformat_minor": 5
}
