{
 "cells": [
  {
   "cell_type": "markdown",
   "id": "61da48b6",
   "metadata": {},
   "source": [
    "<h1>图搜索实验报告</h1>\n",
    "<br>张栋玮 19373703 &nbsp <a href=\"https://github.com/ZhangDw529/PythonProjects.git\">在Github中打开</a></br>"
   ]
  },
  {
   "cell_type": "markdown",
   "id": "8ddf1306",
   "metadata": {},
   "source": [
    "## 1. 定义位置与目标数码 \n",
    "可以在测试部分修改目标数码。"
   ]
  },
  {
   "cell_type": "code",
   "execution_count": 1,
   "id": "a42e3333",
   "metadata": {},
   "outputs": [],
   "source": [
    "# 位置定义：\n",
    "#     0 1 2\n",
    "#     3 4 5\n",
    "#     6 7 8\n",
    "# 目标数码: \n",
    "#     1 2 3\n",
    "#     8 0 4\n",
    "#     7 6 5"
   ]
  },
  {
   "cell_type": "markdown",
   "id": "d0fe4609",
   "metadata": {},
   "source": [
    "## 2. 定义规则与交换算法\n",
    "格式如下：{position:[exchangeable position]}，比如位置0可以和[1,3]交换。在本实验中，采用字符串记录各个节点，如目标数码为“123804765”。"
   ]
  },
  {
   "cell_type": "code",
   "execution_count": 2,
   "id": "f1229087",
   "metadata": {},
   "outputs": [],
   "source": [
    "chart = {0:[1,3], \n",
    "         1:[2,4,0], \n",
    "         2:[1,5],\n",
    "         3:[0,4,6], \n",
    "         4:[1,3,5,7], \n",
    "         5:[2,4,8],\n",
    "         6:[3,7],  \n",
    "         7:[4,6,8], \n",
    "         8:[5,7]}"
   ]
  },
  {
   "cell_type": "code",
   "execution_count": 3,
   "id": "dda86604",
   "metadata": {},
   "outputs": [],
   "source": [
    "# 交换两个方块，a为当前数码阵，i、j为要交换的两个位置\n",
    "def swap(a, i, j):\n",
    "    if i > j:\n",
    "        #将i,j变换顺序，便于后面拷贝字符串\n",
    "        i, j = j, i\n",
    "    b = a[:i] + a[j] + a[i+1:j] + a[i] + a[j+1:]\n",
    "    return b"
   ]
  },
  {
   "cell_type": "markdown",
   "id": "6db95d6f",
   "metadata": {},
   "source": [
    "## 3. 定义启发函数（A*）\n",
    "在A*算法中，定义启发函数total_cost=future_cost+deep，其中future_cost为当前状态和目标状态的曼哈顿距离总和，deep为当前状态的探索深度。"
   ]
  },
  {
   "cell_type": "code",
   "execution_count": 4,
   "id": "c9d92d0b",
   "metadata": {},
   "outputs": [],
   "source": [
    "# 计算当前状态和目标状态的曼哈顿距离\n",
    "def future_cost(src,dst):\n",
    "    sum = 0\n",
    "    a = src.index(\"0\")\n",
    "    for i in range(0,9):\n",
    "        if i!=a:\n",
    "            sum=sum+abs(i-dst.index(src[i]))\n",
    "    return sum\n",
    "\n",
    "def total_cost(deep,new,dst):\n",
    "    val = future_cost(new, dst)+deep\n",
    "    return val\n"
   ]
  },
  {
   "cell_type": "markdown",
   "id": "9c15f17c",
   "metadata": {},
   "source": [
    "## 4. 判断是否可解\n",
    "对于八数码问题，如果两个状态的逆序数奇偶性相同，那么这两个状态可以相互到达，否则不能相互到达。参见<a  href=\"https://www.jianshu.com/p/925cb5499a1d\">八数码问题</a>。"
   ]
  },
  {
   "cell_type": "code",
   "execution_count": 5,
   "id": "e3a4ec3a",
   "metadata": {},
   "outputs": [],
   "source": [
    "# 计算逆序数，判断是否可解\n",
    "def inv_num(s):\n",
    "    count = 0\n",
    "    for i in range(1,9):\n",
    "        inv=0\n",
    "        for j in range(0,i):\n",
    "            if(s[j]>s[i] and s[i]!='0'):\n",
    "                inv+=1\n",
    "        count+=inv\n",
    "    return count"
   ]
  },
  {
   "cell_type": "markdown",
   "id": "663edd48",
   "metadata": {},
   "source": [
    "## 5. 算法实现\n",
    "使用solve(src, dst, method)函数同时实现深度优先、广度优先、A*算法，分别对应method=1,2,3。三者的主要区别在于从Open表取出一个节点的方法，深度优先采用的是后进先出，栈型数据结构；广度优先采用的是先进先出，队列型数据结构；A*算法是根据Open表中的启发函数值，每次给出最小的节点。当扩展至出现目标节点时，就完成了搜索。最后通过steps将步骤返回。"
   ]
  },
  {
   "cell_type": "code",
   "execution_count": 6,
   "id": "21188652",
   "metadata": {},
   "outputs": [],
   "source": [
    "def solve(src, dst, method=2):\n",
    "\n",
    "    # Open表，以整个字符串为一个表中元素\n",
    "    # 后续通过查找“0”所在位置来确定可移动方向\n",
    "    openBox = []\n",
    "    openBox.append(src)#当前状态存入列表\n",
    "    \n",
    "    # Closed表，以字典记录\n",
    "    # 便于查找是否已扩展，并且记录父节点\n",
    "    closedBox = {}\n",
    "    closedBox[src] = -1\n",
    "    \n",
    "    deep = {}\n",
    "    deep[src]= 1\n",
    "    \n",
    "    # Open表中各节点的总距离\n",
    "    openDeep = {}\n",
    "    openDeep[src] = 1 + future_cost(src, dst)\n",
    "    \n",
    "    count=0\n",
    "    \n",
    "    while len(openBox) > 0:\n",
    "        # count+=1\n",
    "        # print(\"No.\",count)\n",
    "        if(method==1):\n",
    "            cur = openBox.pop() # 后进先出，深度优先\n",
    "        elif(method==2):\n",
    "            cur = openBox.pop(0) # 先进先出，广度优先\n",
    "        else:\n",
    "            #找到当前Open表中总距离最小的节点\n",
    "            cur = min(openDeep, key=openDeep.get)\n",
    "            # print(\"cur:\",cur)\n",
    "            del openDeep[cur]\n",
    "            openBox.remove(cur) \n",
    "        \n",
    "        \n",
    "        if cur == dst: #判断当前状态是否为目标状态\n",
    "            break\n",
    "\n",
    "        # 寻找0的位置并进行扩展\n",
    "        init = cur.index(\"0\")\n",
    "        Available = chart[init]#当前可进行交换的位置集合\n",
    "        for move in Available:\n",
    "            new = swap(cur, move, init) #交换后的状态\n",
    "            if closedBox.get(new) == None:#判断交换后的状态是否已经查询过\n",
    "                closedBox[new] = cur      #当前扩展节点加入Closed表\n",
    "                openBox.append(new)       #新节点加入Open表\n",
    "                if(method==3):\n",
    "                    val = total_cost(deep[cur] + 1, new, dst)\n",
    "                    deep[new] = deep[cur] + 1#存入距离\n",
    "                    openDeep[new] = val#存入val\n",
    "\n",
    "            \n",
    "    # 输出\n",
    "    steps = []\n",
    "    steps.append(cur)\n",
    "    # 回溯至根节点src\n",
    "    while closedBox[cur] != -1: \n",
    "        cur = closedBox[cur]\n",
    "        steps.append(cur)\n",
    "    steps.reverse()\n",
    "    return steps\n",
    "\n"
   ]
  },
  {
   "cell_type": "markdown",
   "id": "2a57ca21",
   "metadata": {},
   "source": [
    "## 6. 测试\n",
    "src为初始状态，dst为目标状态，method为选用方法。"
   ]
  },
  {
   "cell_type": "code",
   "execution_count": 7,
   "id": "473a1593",
   "metadata": {},
   "outputs": [
    {
     "name": "stdout",
     "output_type": "stream",
     "text": [
      "--Steps:1--\n",
      "541\n",
      "203\n",
      "786\n",
      "--Steps:2--\n",
      "501\n",
      "243\n",
      "786\n",
      "--Steps:3--\n",
      "510\n",
      "243\n",
      "786\n",
      "--Steps:4--\n",
      "513\n",
      "240\n",
      "786\n",
      "--Steps:5--\n",
      "513\n",
      "204\n",
      "786\n",
      "--Steps:6--\n",
      "513\n",
      "024\n",
      "786\n",
      "--Steps:7--\n",
      "013\n",
      "524\n",
      "786\n",
      "--Steps:8--\n",
      "103\n",
      "524\n",
      "786\n",
      "--Steps:9--\n",
      "123\n",
      "504\n",
      "786\n",
      "--Steps:10--\n",
      "123\n",
      "584\n",
      "706\n",
      "--Steps:11--\n",
      "123\n",
      "584\n",
      "760\n",
      "--Steps:12--\n",
      "123\n",
      "580\n",
      "764\n",
      "--Steps:13--\n",
      "123\n",
      "508\n",
      "764\n",
      "--Steps:14--\n",
      "123\n",
      "058\n",
      "764\n",
      "--Steps:15--\n",
      "123\n",
      "758\n",
      "064\n",
      "--Steps:16--\n",
      "123\n",
      "758\n",
      "604\n",
      "--Steps:17--\n",
      "123\n",
      "708\n",
      "654\n",
      "--Steps:18--\n",
      "123\n",
      "780\n",
      "654\n",
      "--Steps:19--\n",
      "123\n",
      "784\n",
      "650\n",
      "--Steps:20--\n",
      "123\n",
      "784\n",
      "605\n",
      "--Steps:21--\n",
      "123\n",
      "784\n",
      "065\n",
      "--Steps:22--\n",
      "123\n",
      "084\n",
      "765\n",
      "--Steps:23--\n",
      "123\n",
      "804\n",
      "765\n"
     ]
    }
   ],
   "source": [
    "if __name__ == \"__main__\":\n",
    "    \n",
    "    # 测试数据，可在此进行修改：\n",
    "    src = \"541203786\"\n",
    "    dst = \"123804765\"\n",
    "    method = 3\n",
    "    # 方法1：深度优先\n",
    "    # 方法2：广度优先\n",
    "    # 方法3：A*算法\n",
    "    \n",
    "    assert method in [1,2,3],\"方法错误，请重新输入！\"\n",
    "    \n",
    "    # 判断是否可解\n",
    "    inv1 = inv_num(src)\n",
    "    inv2 = inv_num(dst)\n",
    "    assert inv1%2==inv2%2,\"不可解！请重新开始！\"\n",
    "    \n",
    "    # 获取解步骤\n",
    "    steps = solve(src, dst, method)\n",
    "    \n",
    "    # 输出打印\n",
    "    for i in range(len(steps)):\n",
    "        print(f\"--Steps:{i+1}--\")\n",
    "        print(steps[i][:3])\n",
    "        print(steps[i][3:6])\n",
    "        print(steps[i][6:])\n",
    "\n"
   ]
  }
 ],
 "metadata": {
  "kernelspec": {
   "display_name": "Python 3 (ipykernel)",
   "language": "python",
   "name": "python3"
  },
  "language_info": {
   "codemirror_mode": {
    "name": "ipython",
    "version": 3
   },
   "file_extension": ".py",
   "mimetype": "text/x-python",
   "name": "python",
   "nbconvert_exporter": "python",
   "pygments_lexer": "ipython3",
   "version": "3.8.13"
  },
  "toc": {
   "base_numbering": 1,
   "nav_menu": {},
   "number_sections": true,
   "sideBar": true,
   "skip_h1_title": false,
   "title_cell": "Table of Contents",
   "title_sidebar": "Contents",
   "toc_cell": false,
   "toc_position": {},
   "toc_section_display": true,
   "toc_window_display": true
  },
  "vscode": {
   "interpreter": {
    "hash": "0747f93ff6db21b2db2bf35ad4858dd0825b9c21797c41b4cc32097944ab3f10"
   }
  }
 },
 "nbformat": 4,
 "nbformat_minor": 5
}
