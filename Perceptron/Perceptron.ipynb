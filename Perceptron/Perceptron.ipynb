{
 "cells": [
  {
   "cell_type": "markdown",
   "id": "3d6daa79",
   "metadata": {},
   "source": [
    "# Perceptron\n",
    "<br>张栋玮 19373703 <a href=\"https://github.com/ZhangDw529/PythonProjects.git\">Open in GITHUB</a></br>"
   ]
  },
  {
   "cell_type": "markdown",
   "id": "dffba146",
   "metadata": {},
   "source": [
    "---\n",
    "# Abstract\n",
    "<br>In this experiment, I first design and compile the codes of perceptron learning toward the linear classification of two classes. Main parts of the codes including datasets generation, visualization and Class of $Perceptron$ algorithm. I analysed the effect of the initialization of $weight$,$iterations$ and $learning\\_rate$, and create new datasets to study the performance of the algorithm. I find $Perceptron$ useful in classification of linearly separable datasets with two classes. However, $Perceptron$ is just one of the bases of machine learning, and it is constrained strictly by the datasets. So there are more algorithms have been proposed which need further study. It's really fun to see the plots of random datasets!</br>"
   ]
  },
  {
   "cell_type": "markdown",
   "id": "9db94b4c",
   "metadata": {},
   "source": [
    "# 1. Algorithm\n",
    "## 1.1 Datasets Generation Function\n",
    "<br>First, generate one dataset with $N$ points using $random.uniform()$ function. Then use random $w $ and $b$ to create a line to separate the dataset into two categories using $sign()$  function. By doing so, we get two linearly separable datasets.</br>\n",
    "<br>I set the default random seed as $2$, which is carefully chosen and gives a relatively good separation. The parameter $seed$ can be changed to get different datasets. Since $w$ and $b$ are randomly chosen, the two classes may have unequal number of items, which makes choosing a proper $seed$ important.</br>\n",
    "<br>Function $y=sgn(wx+b)$ ensures that points above the line is classified as $1$, while points below the line is classified as $-1$.</br>"
   ]
  },
  {
   "cell_type": "code",
   "execution_count": 1,
   "id": "676060a2",
   "metadata": {},
   "outputs": [],
   "source": [
    "import matplotlib.pyplot as plt\n",
    "import numpy as np"
   ]
  },
  {
   "cell_type": "code",
   "execution_count": 2,
   "id": "2ed160a1",
   "metadata": {},
   "outputs": [],
   "source": [
    "def generate_data(N,seed=2):\n",
    "    np.random.seed(seed)\n",
    "    x = np.random.uniform(-1, 1, [N, 2])\n",
    "    w = np.random.uniform(-1, 1, 2)\n",
    "    b = np.random.uniform(-0.5, 0.5)\n",
    "    y = np.sign(np.inner(w, x)+b)\n",
    "    return x,y,w,b"
   ]
  },
  {
   "cell_type": "markdown",
   "id": "e0198498",
   "metadata": {},
   "source": [
    "## 1.2. Data visualization "
   ]
  },
  {
   "cell_type": "code",
   "execution_count": 3,
   "id": "82106de4",
   "metadata": {},
   "outputs": [],
   "source": [
    "def plot_data(x, y, w, b,title=None,save=None) :\n",
    "    fig = plt.figure(figsize=(10,10))\n",
    "    plt.title(title)\n",
    "    plt.xlim(-1.1,1.1)\n",
    "    plt.ylim(-1.1,1.1)\n",
    "    \n",
    "    # 1. Scatter Plot\n",
    "    classes = {1: 'b', -1: 'r'}\n",
    "    for i in range(len(x)): \n",
    "        plt.plot(x[i][0], x[i][1], classes[y[i]]+'.')\n",
    "    \n",
    "    # 2. Separation Line\n",
    "    lx = np.linspace(-1,1)\n",
    "    a = -w[0]/w[1]\n",
    "    plt.plot(lx, a*lx-(b/w[1]))\n",
    "    \n",
    "    # 3. Save it if need\n",
    "    if(save):\n",
    "        plt.savefig(\"./pic/\"+save+\".jpg\")\n",
    "        \n",
    "    plt.show()"
   ]
  },
  {
   "cell_type": "markdown",
   "id": "ff4a0878",
   "metadata": {},
   "source": [
    "## 1.3. Perceptron"
   ]
  },
  {
   "cell_type": "markdown",
   "id": "0caeb583",
   "metadata": {},
   "source": [
    "<br>The perceptron algorithm is a mistake-driven algorithm that works as follows ($b$ is seen as a part of $w$): <a href=\"https://www.cs.utah.edu/~zhe/pdf/lec-10-perceptron-upload.pdf\">Perceptron</a></br>\n",
    "<img src='./pic/perceptron.jpg' width=600 height=400>"
   ]
  },
  {
   "cell_type": "markdown",
   "id": "0361f39a",
   "metadata": {},
   "source": [
    " <div style=\"page-break-after:always\"></div>"
   ]
  },
  {
   "cell_type": "markdown",
   "id": "d62e59f9",
   "metadata": {},
   "source": [
    " <div style=\"page-break-after:always\"></div>"
   ]
  },
  {
   "cell_type": "markdown",
   "id": "f6daf656",
   "metadata": {},
   "source": [
    " <div style=\"page-break-after:always\"></div>"
   ]
  },
  {
   "cell_type": "code",
   "execution_count": 4,
   "id": "5acf2f08",
   "metadata": {},
   "outputs": [],
   "source": [
    "class Perceptron :\n",
    "    \n",
    "    def __init__(self, max_iter=1000, lr=0.1) :\n",
    " \n",
    "        self.w = np.zeros(3)\n",
    "        self.max_iter = max_iter\n",
    "        self.lr = lr\n",
    "        self.records = []        \n",
    "        self._converge = False\n",
    "        self._iteration = 0\n",
    "        self.x=[]\n",
    "        self.y=[]\n",
    "        self.x1=[]\n",
    "        \n",
    "    def fit(self, x, y) :\n",
    "    \n",
    "        # Data preprocess \n",
    "        self.x = x\n",
    "        self.y = y\n",
    "        self.x1 = np.column_stack((self.x,np.ones([len(self.x),1])))\n",
    "        \n",
    "        # Fit\n",
    "        while (not self._converge and self._iteration <= self.max_iter ) :\n",
    "            self._converge = True\n",
    "            for i in range(len(self.x)) :\n",
    "                # Update W if there is one misclassification.\n",
    "                \n",
    "                if self.y[i] * self.y_pre(self.w,self.x1[i]) <= 0 :\n",
    "                    self.w = self.w + self.lr * self.y[i] * self.x1[i]\n",
    "                    self._converge = False\n",
    "            self._iteration += 1\n",
    "            \n",
    "            # Record W every 10 iterations\n",
    "            if(self._iteration%10==0):\n",
    "                self.records.append(self.w)\n",
    "\n",
    "        # Check convergence\n",
    "        if (not self._converge):\n",
    "            print(f\"Not converged!\")\n",
    "        else:\n",
    "            print(f\"Converged in {self._iteration} iterations!\")\n",
    "        \n",
    "        print(f\"Current w={self.w}\")\n",
    "        # Return final weight vector\n",
    "        return self.w\n",
    "    \n",
    "    # Change inital weight\n",
    "    def init_w(self,w):\n",
    "        self.w = w\n",
    "    \n",
    "    \n",
    "    def y_pre(self,x,w):\n",
    "        y_pre = np.dot(x,w)\n",
    "        return y_pre\n",
    "    \n",
    "    def record(self):\n",
    "        return self.records"
   ]
  },
  {
   "cell_type": "markdown",
   "id": "0ea8a60a",
   "metadata": {},
   "source": [
    " <div style=\"page-break-after:always\"></div>\n"
   ]
  },
  {
   "cell_type": "markdown",
   "id": "1078d91c",
   "metadata": {},
   "source": [
    " <div style=\"page-break-after:always\"></div>"
   ]
  },
  {
   "cell_type": "markdown",
   "id": "34e7d70f",
   "metadata": {},
   "source": [
    " <div style=\"page-break-after:always\"></div>"
   ]
  },
  {
   "cell_type": "markdown",
   "id": "d1b0c1db",
   "metadata": {},
   "source": [
    " <div style=\"page-break-after:always\"></div>"
   ]
  },
  {
   "cell_type": "markdown",
   "id": "b8729f97",
   "metadata": {},
   "source": [
    "# 2. Test"
   ]
  },
  {
   "cell_type": "markdown",
   "id": "fbb1dbf6",
   "metadata": {},
   "source": [
    "<br>You can change $seed$ here and uncomment the $plot\\_data()$ function to plot the result. Note here $b$ is integrated in $w$ as $w[2]$.</br>"
   ]
  },
  {
   "cell_type": "code",
   "execution_count": 5,
   "id": "6a300dc5",
   "metadata": {},
   "outputs": [
    {
     "name": "stdout",
     "output_type": "stream",
     "text": [
      "Converged in 20 iterations!\n",
      "Current w=[-0.94910184  0.26775336  0.1       ]\n"
     ]
    }
   ],
   "source": [
    "seed = 2\n",
    "num_of_data=200\n",
    "lr = 0.1\n",
    "max_iter = 100\n",
    "\n",
    "x,y,w,b = generate_data(num_of_data,seed) # here w,b is the raw separation line parameter.\n",
    "p = Perceptron(max_iter,lr)\n",
    "weight = p.fit(x,y)\n",
    "#plot_data(x,y,weight[:2],weight[2])\n",
    "#plot_data(x,y,w,b,title=\"raw\",save=\"raw\")\n",
    "#plot_data(x,y,weight[:2],weight[2],title=\"result\",save=\"result\")"
   ]
  },
  {
   "cell_type": "markdown",
   "id": "b6a9abb7",
   "metadata": {},
   "source": [
    "<br>Here are the raw and result figures. The classification is done great, though the separation line has changed a little after the fit process.</br>\n",
    "<table><tr>\n",
    "<td><img src='./pic/raw.jpg' width=400 height=400></td>\n",
    "<td><img src='./pic/result.jpg' width=400 height=400></td>\n",
    "</tr></table>"
   ]
  },
  {
   "cell_type": "markdown",
   "id": "f6b8c95e",
   "metadata": {},
   "source": [
    "# 3. Analysis of Parameters"
   ]
  },
  {
   "cell_type": "markdown",
   "id": "cdc8084b",
   "metadata": {},
   "source": [
    "<br>The initial weight is zero which is set in the $Perceptron.\\_\\_init\\_\\_()$. We can change $w$ using $init\\_w()$.</br>"
   ]
  },
  {
   "cell_type": "code",
   "execution_count": 6,
   "id": "588f5a71",
   "metadata": {},
   "outputs": [
    {
     "name": "stdout",
     "output_type": "stream",
     "text": [
      "Converged in 20 iterations!\n",
      "Current w=[-0.94910184  0.26775336  0.1       ]\n"
     ]
    }
   ],
   "source": [
    "# 1. Raw\n",
    "lr = 0.1\n",
    "max_iter = 100\n",
    "p = Perceptron(max_iter,lr)\n",
    "weight = p.fit(x,y)"
   ]
  },
  {
   "cell_type": "code",
   "execution_count": 7,
   "id": "f70ab1db",
   "metadata": {},
   "outputs": [
    {
     "name": "stdout",
     "output_type": "stream",
     "text": [
      "Converged in 20 iterations!\n",
      "Current w=[-9.49101842  2.67753357  1.        ]\n"
     ]
    }
   ],
   "source": [
    "# 2. Change learning rate\n",
    "lr = 1\n",
    "max_iter = 100\n",
    "p = Perceptron(max_iter,lr)\n",
    "weight = p.fit(x,y)"
   ]
  },
  {
   "cell_type": "code",
   "execution_count": 8,
   "id": "9bccfdaa",
   "metadata": {},
   "outputs": [
    {
     "name": "stdout",
     "output_type": "stream",
     "text": [
      "Not converged!\n",
      "Current w=[-42.0868654   13.96353553   5.5       ]\n"
     ]
    }
   ],
   "source": [
    "# 3. Add init_w()\n",
    "lr = 0.1\n",
    "max_iter = 100\n",
    "w=[100,100,100]   # Randomly choose\n",
    "p = Perceptron(max_iter,lr)\n",
    "p.init_w(w)\n",
    "weight = p.fit(x,y)"
   ]
  },
  {
   "cell_type": "code",
   "execution_count": 9,
   "id": "b61d8bb6",
   "metadata": {},
   "outputs": [
    {
     "name": "stdout",
     "output_type": "stream",
     "text": [
      "Converged in 24 iterations!\n",
      "Current w=[-43.84290692  11.25932544   4.        ]\n"
     ]
    }
   ],
   "source": [
    "# 4. Change learning rate again (corresponding to 3)\n",
    "lr = 1\n",
    "max_iter = 100\n",
    "w=[100,100,100]   # Randomly choose\n",
    "p = Perceptron(max_iter,lr)\n",
    "p.init_w(w)\n",
    "weight = p.fit(x,y)"
   ]
  },
  {
   "cell_type": "code",
   "execution_count": 10,
   "id": "1a376c48",
   "metadata": {},
   "outputs": [
    {
     "name": "stdout",
     "output_type": "stream",
     "text": [
      "Converged in 183 iterations!\n",
      "Current w=[-42.62197525  12.46761728   4.7       ]\n"
     ]
    }
   ],
   "source": [
    "# 5. Add iterations (corresponding to 3)\n",
    "lr = 0.1\n",
    "max_iter = 1000\n",
    "w=[100,100,100]   # Randomly choose\n",
    "p = Perceptron(max_iter,lr)\n",
    "p.init_w(w)\n",
    "weight = p.fit(x,y)"
   ]
  },
  {
   "cell_type": "markdown",
   "id": "b4be22e3",
   "metadata": {},
   "source": [
    "<br>By comparing the above experiments, I get conclusions as follows:</br>\n",
    "- When `weight` is initialized as zero, it always needs same number of iterations to convergence whatever the `learning rate` is. However the `weight` result will change at a same proportion as `learning rate'.\n",
    "- `weight` is changing proportionally because the parameters of linear function can be mutiplied by any number while stay the same line. \n",
    "- `Learning rate` can accelerate the iteration if `weight` is large at beginning."
   ]
  },
  {
   "cell_type": "markdown",
   "id": "28d4ef13",
   "metadata": {},
   "source": [
    "# 4. Test on New Datasets"
   ]
  },
  {
   "cell_type": "markdown",
   "id": "532b2bec",
   "metadata": {},
   "source": [
    "<br>Uncomment the $plot\\_data()$ and play with it !</br>"
   ]
  },
  {
   "cell_type": "code",
   "execution_count": 11,
   "id": "2caf26b5",
   "metadata": {},
   "outputs": [
    {
     "name": "stdout",
     "output_type": "stream",
     "text": [
      "Converged in 193 iterations!\n",
      "Current w=[-1.70280639 -0.52832915 -0.6       ]\n"
     ]
    }
   ],
   "source": [
    "seed = 14\n",
    "num_of_data=200\n",
    "lr = 0.1\n",
    "max_iter = 1000\n",
    "\n",
    "x,y,w,b = generate_data(num_of_data,seed) # here w,b is the raw separation line parameter.\n",
    "p = Perceptron(max_iter,lr)\n",
    "weight = p.fit(x,y)\n",
    "\n",
    "\n",
    "#plot_data(x,y,w,b)\n",
    "#plot_data(x,y,weight[:2],weight[2])\n"
   ]
  },
  {
   "cell_type": "markdown",
   "id": "12faf9b9",
   "metadata": {},
   "source": [
    "<br>Here are comparisons with $seed=14$. The two are almost the same.</br>\n",
    "<table><tr>\n",
    "<td><img src='./pic/raw2.jpg' width=400 height=400></td>\n",
    "<td><img src='./pic/result2.jpg' width=400 height=400></td>\n",
    "</tr></table>"
   ]
  },
  {
   "cell_type": "markdown",
   "id": "b42a9b6c",
   "metadata": {},
   "source": [
    "# Reference\n",
    "<br>[1]. Statistical Pattern Recognition Lab, SASEE</br>\n",
    "<br>[2]. <a href=\"https://blog.csdn.net/huanyingzhizai/article/details/93525995\">机器学习笔记——感知机（Perceptron）<a></br>\n",
    "<br>[3]. <a href=\"https://zhuanlan.zhihu.com/p/492867531\"> 最简单的神经网络——感知器算法<a></br>"
   ]
  }
 ],
 "metadata": {
  "celltoolbar": "原始单元格格式",
  "kernelspec": {
   "display_name": "Python 3 (ipykernel)",
   "language": "python",
   "name": "python3"
  },
  "language_info": {
   "codemirror_mode": {
    "name": "ipython",
    "version": 3
   },
   "file_extension": ".py",
   "mimetype": "text/x-python",
   "name": "python",
   "nbconvert_exporter": "python",
   "pygments_lexer": "ipython3",
   "version": "3.8.13"
  },
  "vscode": {
   "interpreter": {
    "hash": "0747f93ff6db21b2db2bf35ad4858dd0825b9c21797c41b4cc32097944ab3f10"
   }
  }
 },
 "nbformat": 4,
 "nbformat_minor": 5
}
